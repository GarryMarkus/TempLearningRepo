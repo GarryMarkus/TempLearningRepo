{
 "cells": [
  {
   "cell_type": "code",
   "execution_count": 1,
   "id": "07bb9cd1-af64-4ede-859b-9527f0862ea8",
   "metadata": {},
   "outputs": [
    {
     "data": {
      "text/plain": [
       "2"
      ]
     },
     "execution_count": 1,
     "metadata": {},
     "output_type": "execute_result"
    }
   ],
   "source": [
    "1+1"
   ]
  },
  {
   "cell_type": "code",
   "execution_count": 3,
   "id": "b438612e-1ec3-4c18-bbaf-f3158d11e89c",
   "metadata": {},
   "outputs": [
    {
     "name": "stdout",
     "output_type": "stream",
     "text": [
      "hello!\n"
     ]
    }
   ],
   "source": [
    "print(\"hello!\")"
   ]
  },
  {
   "cell_type": "code",
   "execution_count": 5,
   "id": "ddfc2ec6-7a3d-4854-91df-7989d889307d",
   "metadata": {},
   "outputs": [
    {
     "data": {
      "text/plain": [
       "8"
      ]
     },
     "execution_count": 5,
     "metadata": {},
     "output_type": "execute_result"
    }
   ],
   "source": [
    "4*2"
   ]
  },
  {
   "cell_type": "code",
   "execution_count": 7,
   "id": "c1e3fb27-e1b1-4fde-8631-9551cb9a0fa4",
   "metadata": {},
   "outputs": [
    {
     "name": "stdout",
     "output_type": "stream",
     "text": [
      "4*2\n"
     ]
    }
   ],
   "source": [
    "print(\"4*2\")"
   ]
  },
  {
   "cell_type": "code",
   "execution_count": 9,
   "id": "372cdf85-9b78-4181-a5f9-c07ad8603ce6",
   "metadata": {},
   "outputs": [
    {
     "name": "stdout",
     "output_type": "stream",
     "text": [
      "8\n"
     ]
    }
   ],
   "source": [
    "print(4*2)"
   ]
  },
  {
   "cell_type": "code",
   "execution_count": null,
   "id": "1fdef257-3bb4-4030-83a9-1baa320618b2",
   "metadata": {},
   "outputs": [],
   "source": []
  }
 ],
 "metadata": {
  "kernelspec": {
   "display_name": "Python 3 (ipykernel)",
   "language": "python",
   "name": "python3"
  },
  "language_info": {
   "codemirror_mode": {
    "name": "ipython",
    "version": 3
   },
   "file_extension": ".py",
   "mimetype": "text/x-python",
   "name": "python",
   "nbconvert_exporter": "python",
   "pygments_lexer": "ipython3",
   "version": "3.12.4"
  }
 },
 "nbformat": 4,
 "nbformat_minor": 5
}
