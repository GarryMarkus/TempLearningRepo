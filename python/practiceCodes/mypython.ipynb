{
 "cells": [
  {
   "cell_type": "code",
   "execution_count": 1,
   "id": "07bb9cd1-af64-4ede-859b-9527f0862ea8",
   "metadata": {},
   "outputs": [
    {
     "data": {
      "text/plain": [
       "2"
      ]
     },
     "execution_count": 1,
     "metadata": {},
     "output_type": "execute_result"
    }
   ],
   "source": [
    "1+1"
   ]
  },
  {
   "cell_type": "code",
   "execution_count": 3,
   "id": "b438612e-1ec3-4c18-bbaf-f3158d11e89c",
   "metadata": {},
   "outputs": [
    {
     "name": "stdout",
     "output_type": "stream",
     "text": [
      "hello!\n"
     ]
    }
   ],
   "source": [
    "print(\"hello!\")"
   ]
  },
  {
   "cell_type": "code",
   "execution_count": 5,
   "id": "ddfc2ec6-7a3d-4854-91df-7989d889307d",
   "metadata": {},
   "outputs": [
    {
     "data": {
      "text/plain": [
       "8"
      ]
     },
     "execution_count": 5,
     "metadata": {},
     "output_type": "execute_result"
    }
   ],
   "source": [
    "4*2"
   ]
  },
  {
   "cell_type": "code",
   "execution_count": 7,
   "id": "c1e3fb27-e1b1-4fde-8631-9551cb9a0fa4",
   "metadata": {},
   "outputs": [
    {
     "name": "stdout",
     "output_type": "stream",
     "text": [
      "4*2\n"
     ]
    }
   ],
   "source": [
    "print(\"4*2\")"
   ]
  },
  {
   "cell_type": "code",
   "execution_count": 9,
   "id": "372cdf85-9b78-4181-a5f9-c07ad8603ce6",
   "metadata": {},
   "outputs": [
    {
     "name": "stdout",
     "output_type": "stream",
     "text": [
      "8\n"
     ]
    }
   ],
   "source": [
    "print(4*2)"
   ]
  },
  {
   "cell_type": "code",
   "execution_count": 1,
   "id": "1fdef257-3bb4-4030-83a9-1baa320618b2",
   "metadata": {},
   "outputs": [],
   "source": [
    "a = 5"
   ]
  },
  {
   "cell_type": "code",
   "execution_count": 3,
   "id": "87c4f205-4918-4318-bf55-a6a432cf4478",
   "metadata": {},
   "outputs": [
    {
     "data": {
      "text/plain": [
       "5"
      ]
     },
     "execution_count": 3,
     "metadata": {},
     "output_type": "execute_result"
    }
   ],
   "source": [
    "a"
   ]
  },
  {
   "cell_type": "code",
   "execution_count": 5,
   "id": "80cb741d-de7c-4e26-b0df-ce36756e3edd",
   "metadata": {},
   "outputs": [
    {
     "data": {
      "text/plain": [
       "10"
      ]
     },
     "execution_count": 5,
     "metadata": {},
     "output_type": "execute_result"
    }
   ],
   "source": [
    "a+a"
   ]
  },
  {
   "cell_type": "code",
   "execution_count": 7,
   "id": "a79706ee-1e2f-4bd9-9a5e-3643b968dcb7",
   "metadata": {},
   "outputs": [],
   "source": [
    "a = a+a"
   ]
  },
  {
   "cell_type": "code",
   "execution_count": 9,
   "id": "d90c3ee5-eb86-4bb5-a3dc-6e6b2bb9f56e",
   "metadata": {},
   "outputs": [
    {
     "data": {
      "text/plain": [
       "10"
      ]
     },
     "execution_count": 9,
     "metadata": {},
     "output_type": "execute_result"
    }
   ],
   "source": [
    "a"
   ]
  },
  {
   "cell_type": "code",
   "execution_count": 11,
   "id": "6fed30ce-15b0-44de-89e3-e3499de6b946",
   "metadata": {},
   "outputs": [],
   "source": [
    "a = a+a"
   ]
  },
  {
   "cell_type": "code",
   "execution_count": 13,
   "id": "77f84d24-82b6-40dc-a871-cc3c7fc023f5",
   "metadata": {},
   "outputs": [
    {
     "data": {
      "text/plain": [
       "20"
      ]
     },
     "execution_count": 13,
     "metadata": {},
     "output_type": "execute_result"
    }
   ],
   "source": [
    "a"
   ]
  },
  {
   "cell_type": "code",
   "execution_count": 15,
   "id": "9d66cbdc-724a-4464-b7b3-c2de37ad30a9",
   "metadata": {},
   "outputs": [
    {
     "data": {
      "text/plain": [
       "int"
      ]
     },
     "execution_count": 15,
     "metadata": {},
     "output_type": "execute_result"
    }
   ],
   "source": [
    "type(a)"
   ]
  },
  {
   "cell_type": "code",
   "execution_count": 1,
   "id": "348b477a-63ab-4f1f-ab07-2638eb708194",
   "metadata": {},
   "outputs": [
    {
     "ename": "NameError",
     "evalue": "name 'a' is not defined",
     "output_type": "error",
     "traceback": [
      "\u001b[1;31m---------------------------------------------------------------------------\u001b[0m",
      "\u001b[1;31mNameError\u001b[0m                                 Traceback (most recent call last)",
      "Cell \u001b[1;32mIn[1], line 1\u001b[0m\n\u001b[1;32m----> 1\u001b[0m a\n",
      "\u001b[1;31mNameError\u001b[0m: name 'a' is not defined"
     ]
    }
   ],
   "source": [
    "a"
   ]
  },
  {
   "cell_type": "markdown",
   "id": "20bd7b85-9c15-4842-ac8f-04df46d132f0",
   "metadata": {},
   "source": [
    "kernel was restarted thus this error occured, restarting kernel reset every variables and clears the memory where every variable of the python notebook was stored"
   ]
  },
  {
   "cell_type": "code",
   "execution_count": 1,
   "id": "e7897555-962a-4291-8525-17e96dc6ca12",
   "metadata": {},
   "outputs": [],
   "source": [
    "x = \"Hello World\""
   ]
  },
  {
   "cell_type": "code",
   "execution_count": 7,
   "id": "6af1de75-d545-4b33-87db-610f378a889e",
   "metadata": {},
   "outputs": [
    {
     "data": {
      "text/plain": [
       "<function str.capitalize()>"
      ]
     },
     "execution_count": 7,
     "metadata": {},
     "output_type": "execute_result"
    }
   ],
   "source": [
    "x.capitalize"
   ]
  },
  {
   "cell_type": "code",
   "execution_count": 9,
   "id": "0124fbee-e3ad-4491-808a-45483134aaa5",
   "metadata": {},
   "outputs": [
    {
     "data": {
      "text/plain": [
       "'Hello World'"
      ]
     },
     "execution_count": 9,
     "metadata": {},
     "output_type": "execute_result"
    }
   ],
   "source": [
    "x"
   ]
  },
  {
   "cell_type": "code",
   "execution_count": 11,
   "id": "54c53c37-9788-4fd0-8f63-314059b143e6",
   "metadata": {},
   "outputs": [],
   "source": [
    "x=x.capitalize()"
   ]
  },
  {
   "cell_type": "code",
   "execution_count": 13,
   "id": "61909f70-5cc8-499f-a9f0-82fa3c17fdf7",
   "metadata": {},
   "outputs": [
    {
     "data": {
      "text/plain": [
       "'Hello world'"
      ]
     },
     "execution_count": 13,
     "metadata": {},
     "output_type": "execute_result"
    }
   ],
   "source": [
    "x"
   ]
  },
  {
   "cell_type": "code",
   "execution_count": 15,
   "id": "c145bd20-74f9-4a68-8e4f-430abab5d639",
   "metadata": {},
   "outputs": [
    {
     "data": {
      "text/plain": [
       "'HELLO WORLD'"
      ]
     },
     "execution_count": 15,
     "metadata": {},
     "output_type": "execute_result"
    }
   ],
   "source": [
    "x.upper()"
   ]
  },
  {
   "cell_type": "markdown",
   "id": "0eeefab7-a24f-4870-8f63-5a1463519910",
   "metadata": {},
   "source": [
    "python function can return any number of values at a time"
   ]
  },
  {
   "cell_type": "markdown",
   "id": "d1adcd6a-3c8d-4cc8-922f-684d6f03f1a0",
   "metadata": {},
   "source": [
    "packing and unpacking operation and form of returning values in python "
   ]
  },
  {
   "cell_type": "markdown",
   "id": "352444df-02af-41de-b945-c504b6c8c5ff",
   "metadata": {},
   "source": [
    "return form is Tuple if multiple values are being returned together"
   ]
  },
  {
   "cell_type": "code",
   "execution_count": 26,
   "id": "8d93cb95-df91-4820-99f1-bcaaba1ad2d5",
   "metadata": {},
   "outputs": [
    {
     "name": "stdin",
     "output_type": "stream",
     "text": [
      "Enter a number:  56\n"
     ]
    },
    {
     "name": "stdout",
     "output_type": "stream",
     "text": [
      "3\n",
      "6\n",
      "9\n",
      "12\n",
      "15\n",
      "18\n",
      "21\n",
      "24\n",
      "27\n",
      "30\n",
      "33\n",
      "36\n",
      "39\n",
      "42\n",
      "45\n",
      "48\n",
      "51\n",
      "54\n"
     ]
    }
   ],
   "source": [
    "n = int(input(\"Enter a number: \"))\n",
    "l=[x for x in range(1,n) if(x%3==0)]\n",
    "for i in l:\n",
    "    print (i)"
   ]
  },
  {
   "cell_type": "code",
   "execution_count": 30,
   "id": "ced60e96-a488-44e1-98ae-398084b5b503",
   "metadata": {},
   "outputs": [
    {
     "name": "stdout",
     "output_type": "stream",
     "text": [
      "P&y&t&h&o&n&_&f&o&r&_&p&r&o&g&r&a&m&m&i&n&g\n"
     ]
    }
   ],
   "source": [
    "def display(s):\n",
    "    for str in s.split():\n",
    "        s=\"&\".join(str)\n",
    "    return s\n",
    "print(display(\"Python_for_programming\"))"
   ]
  },
  {
   "cell_type": "code",
   "execution_count": 32,
   "id": "073af37c-75ee-4ca1-8822-16b064531cf6",
   "metadata": {},
   "outputs": [
    {
     "name": "stdin",
     "output_type": "stream",
     "text": [
      "Enter the number:  45\n"
     ]
    },
    {
     "ename": "TypeError",
     "evalue": "'float' object cannot be interpreted as an integer",
     "output_type": "error",
     "traceback": [
      "\u001b[1;31m---------------------------------------------------------------------------\u001b[0m",
      "\u001b[1;31mTypeError\u001b[0m                                 Traceback (most recent call last)",
      "Cell \u001b[1;32mIn[32], line 11\u001b[0m\n\u001b[0;32m      9\u001b[0m             \u001b[38;5;28;01mreturn\u001b[39;00m \u001b[38;5;241m-\u001b[39m\u001b[38;5;241m1\u001b[39m\n\u001b[0;32m     10\u001b[0m n\u001b[38;5;241m=\u001b[39m\u001b[38;5;28mint\u001b[39m(\u001b[38;5;28minput\u001b[39m(\u001b[38;5;124m\"\u001b[39m\u001b[38;5;124mEnter the number: \u001b[39m\u001b[38;5;124m\"\u001b[39m))\n\u001b[1;32m---> 11\u001b[0m perfect_num(n)\n",
      "Cell \u001b[1;32mIn[32], line 3\u001b[0m, in \u001b[0;36mperfect_num\u001b[1;34m(num)\u001b[0m\n\u001b[0;32m      2\u001b[0m \u001b[38;5;28;01mdef\u001b[39;00m \u001b[38;5;21mperfect_num\u001b[39m(num):\n\u001b[1;32m----> 3\u001b[0m     \u001b[38;5;28;01mfor\u001b[39;00m i \u001b[38;5;129;01min\u001b[39;00m \u001b[38;5;28mrange\u001b[39m(\u001b[38;5;241m1\u001b[39m,num\u001b[38;5;241m/\u001b[39m\u001b[38;5;241m2\u001b[39m):\n\u001b[0;32m      4\u001b[0m         \u001b[38;5;28;01mif\u001b[39;00m (num\u001b[38;5;241m%\u001b[39mi\u001b[38;5;241m==\u001b[39m\u001b[38;5;241m0\u001b[39m):\n\u001b[0;32m      5\u001b[0m             s\u001b[38;5;241m=\u001b[39ms\u001b[38;5;241m+\u001b[39ms\n",
      "\u001b[1;31mTypeError\u001b[0m: 'float' object cannot be interpreted as an integer"
     ]
    }
   ],
   "source": [
    "s=0\n",
    "def perfect_num(num):\n",
    "    for i in range(1,num/2):\n",
    "        if (num%i==0):\n",
    "            s=s+s\n",
    "        if(s==num):\n",
    "            return num\n",
    "        else:\n",
    "            return -1\n",
    "n=int(input(\"Enter the number: \"))\n",
    "perfect_num(n)"
   ]
  },
  {
   "cell_type": "code",
   "execution_count": null,
   "id": "a9493652-4598-403f-8465-e5db7656443c",
   "metadata": {},
   "outputs": [],
   "source": [
    "f1=open(\"nonono.jpg\", \"rb\")\n",
    "f2=open(\"rgb.jpg\", \"wb\")\n",
    "bytes=fi.read()\n",
    "f2.write(byte)"
   ]
  }
 ],
 "metadata": {
  "kernelspec": {
   "display_name": "Python 3 (ipykernel)",
   "language": "python",
   "name": "python3"
  },
  "language_info": {
   "codemirror_mode": {
    "name": "ipython",
    "version": 3
   },
   "file_extension": ".py",
   "mimetype": "text/x-python",
   "name": "python",
   "nbconvert_exporter": "python",
   "pygments_lexer": "ipython3",
   "version": "3.12.7"
  }
 },
 "nbformat": 4,
 "nbformat_minor": 5
}
